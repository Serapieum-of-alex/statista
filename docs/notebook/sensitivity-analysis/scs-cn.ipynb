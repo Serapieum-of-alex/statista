{
 "cells": [
  {
   "metadata": {},
   "cell_type": "markdown",
   "source": [
    "# Sensitivity Analysis in Hydrology\n",
    "\n",
    "## Introduction\n",
    "\n",
    "Sensitivity analysis is a crucial technique in hydrological modeling that helps identify how changes in model parameters affect the output. This understanding is essential for:\n",
    "\n",
    "- **Model calibration**: Focusing efforts on the most influential parameters\n",
    "- **Uncertainty assessment**: Quantifying how parameter uncertainty propagates to model predictions\n",
    "- **Decision-making**: Understanding which factors most significantly impact hydrological processes\n",
    "- **Model simplification**: Potentially eliminating parameters with minimal influence\n",
    "\n",
    "This example demonstrates how to use the `Sensitivity` class from the `statista` package to perform One-At-a-Time (OAT) sensitivity analysis on a hydrological model.\n"
   ],
   "id": "6d3508416eeba65f"
  },
  {
   "metadata": {},
   "cell_type": "markdown",
   "source": [
    "## The SCS-CN Method for Runoff Estimation\n",
    "\n",
    "The Soil Conservation Service Curve Number (SCS-CN) method is one of the most widely used approaches for estimating direct runoff from rainfall events. Developed by the USDA Natural Resources Conservation Service, it's popular due to its simplicity and reliance on readily available data.\n",
    "\n",
    "### Key Concepts\n",
    "\n",
    "- **Curve Number (CN)**: A dimensionless parameter (ranging from 30-100) that represents the runoff potential of a watershed\n",
    "  - Higher values (70-100): More runoff (impervious surfaces, clay soils)\n",
    "  - Lower values (30-70): Less runoff (permeable soils, forested areas)\n",
    "\n",
    "- **Initial Abstraction (Ia)**: The amount of rainfall that doesn't appear as runoff (interception, infiltration, surface storage)\n",
    "\n",
    "- **Storage Parameter (S)**: The potential maximum retention after runoff begins\n",
    "\n",
    "The basic equation for runoff depth (Q) is:\n",
    "\n",
    "$$Q = \\frac{(P - I_a)^2}{(P - I_a + S)}$$\n",
    "\n",
    "Where:\n",
    "- Q = Runoff depth (mm)\n",
    "- P = Rainfall depth (mm)\n",
    "- Ia = Initial abstraction (mm)\n",
    "- S = Potential maximum retention (mm)\n"
   ],
   "id": "7d13695126ccf3b7"
  },
  {
   "metadata": {},
   "cell_type": "markdown",
   "source": [
    "## Example: Sensitivity Analysis of SCS-CN Parameters\n",
    "\n",
    "### Step 1: Import Required Libraries\n",
    "\n",
    "First, we need to import the necessary libraries for our analysis:\n"
   ],
   "id": "c37a44f1eca29c16"
  },
  {
   "metadata": {},
   "cell_type": "code",
   "source": [
    "import pandas as pd\n",
    "from statista.sensitivity import Sensitivity\n",
    "import matplotlib.pyplot as plt\n"
   ],
   "id": "93c3d6e57d735b70",
   "outputs": [],
   "execution_count": null
  },
  {
   "metadata": {},
   "cell_type": "markdown",
   "source": [
    "### Step 2: Define the Hydrological Model Function\n",
    "\n",
    "We'll create a function that implements the SCS-CN method with five parameters:\n"
   ],
   "id": "b7742eb6631ab846"
  },
  {
   "metadata": {},
   "cell_type": "code",
   "source": [
    "# SCS-CN method for runoff estimation with 5 parameters\n",
    "def scs_cn_runoff(params, rainfall=100):\n",
    "    # Extract parameters\n",
    "    cn = params[0]  # Curve Number (30-100)\n",
    "    ia_ratio = params[1]  # Initial abstraction ratio (0.1-0.5)\n",
    "    amc_factor = params[2]  # Antecedent moisture condition factor (0.7-1.3)\n",
    "    slope_factor = params[3]  # Slope adjustment factor (0.7-1.5)\n",
    "    veg_factor = params[4]  # Vegetation density factor (0.8-1.2)\n",
    "    \n",
    "    # Apply adjustment factors to CN\n",
    "    adjusted_cn = cn * amc_factor * slope_factor * veg_factor\n",
    "    adjusted_cn = min(98, max(30, adjusted_cn))  # Keep CN in valid range\n",
    "    \n",
    "    # Calculate storage parameter S (mm)\n",
    "    s = (25400 / adjusted_cn) - 254\n",
    "    \n",
    "    # Calculate initial abstraction (mm)\n",
    "    ia = ia_ratio * s\n",
    "    \n",
    "    # Calculate runoff (mm)\n",
    "    if rainfall <= ia:\n",
    "        return 0\n",
    "    else:\n",
    "        return ((rainfall - ia) ** 2) / (rainfall - ia + s)\n"
   ],
   "id": "7d447c20546ea574",
   "outputs": [],
   "execution_count": null
  },
  {
   "metadata": {},
   "cell_type": "markdown",
   "source": [
    "#### Parameter Explanation:\n",
    "\n",
    "1. **Curve Number (CN)**: The primary parameter in the SCS-CN method, representing watershed characteristics\n",
    "2. **Initial Abstraction Ratio (Ia_ratio)**: Traditionally set to 0.2, but can range from 0.1-0.5 depending on watershed conditions\n",
    "3. **Antecedent Moisture Condition Factor (AMC_factor)**: Adjusts CN based on soil moisture prior to the rainfall event\n",
    "4. **Slope Factor (Slope_factor)**: Adjusts CN based on watershed slope (steeper slopes generate more runoff)\n",
    "5. **Vegetation Factor (Veg_factor)**: Adjusts CN based on vegetation density and condition\n"
   ],
   "id": "efa2145a5c73d7b5"
  },
  {
   "metadata": {},
   "cell_type": "markdown",
   "source": [
    "### Step 3: Set Up Parameters and Their Bounds\n",
    "\n",
    "Define the parameter names, their baseline values, and the bounds for sensitivity analysis:\n"
   ],
   "id": "d8c755c2247c2105"
  },
  {
   "metadata": {},
   "cell_type": "code",
   "source": [
    "param_names = ['CN', 'IA_ratio', 'AMC_factor', 'Slope_factor', 'Veg_factor']\n",
    "param_values = [75, 0.2, 1.0, 1.0, 1.0]\n",
    "parameters = pd.DataFrame({'value': param_values}, index=param_names)\n",
    "parameters\n"
   ],
   "id": "3bababf9c0b95bbd",
   "outputs": [],
   "execution_count": null
  },
  {
   "metadata": {},
   "cell_type": "markdown",
   "source": [
    "The baseline values represent a typical watershed with:\n",
    "- CN = 75 (moderate runoff potential)\n",
    "- Ia_ratio = 0.2 (standard value)\n",
    "- AMC_factor = 1.0 (average antecedent moisture conditions)\n",
    "- Slope_factor = 1.0 (average slope)\n",
    "- Veg_factor = 1.0 (average vegetation density)\n",
    "\n",
    "Now define the lower and upper bounds for each parameter:\n"
   ],
   "id": "5e988a629881fa47"
  },
  {
   "metadata": {},
   "cell_type": "code",
   "source": [
    "lower_bounds = [50, 0.1, 0.7, 0.7, 0.8]\n",
    "upper_bounds = [90, 0.5, 1.3, 1.5, 1.2]\n"
   ],
   "id": "98f6021c234f81a5",
   "outputs": [],
   "execution_count": null
  },
  {
   "metadata": {},
   "cell_type": "markdown",
   "source": "These bounds represent the realistic range of values for each parameter in typical watersheds.\n",
   "id": "c6608a969f194456"
  },
  {
   "metadata": {},
   "cell_type": "markdown",
   "source": [
    "### Step 4: Create the Sensitivity Analysis Object\n",
    "\n",
    "Initialize the sensitivity analysis with our parameters, bounds, and model function:\n"
   ],
   "id": "9229edd7ad096b3b"
  },
  {
   "metadata": {},
   "cell_type": "code",
   "source": "sensitivity = Sensitivity(parameters, lower_bounds, upper_bounds, scs_cn_runoff)\n",
   "id": "f16e79fb1ba8de0a",
   "outputs": [],
   "execution_count": null
  },
  {
   "metadata": {},
   "cell_type": "markdown",
   "source": [
    "### Step 5: Perform One-At-a-Time Sensitivity Analysis\n",
    "\n",
    "Run the analysis with a rainfall input of 100mm:\n"
   ],
   "id": "c77bbef12fe45c98"
  },
  {
   "metadata": {},
   "cell_type": "code",
   "source": "sensitivity.one_at_a_time(rainfall=100)\n",
   "id": "545a908d569d697b",
   "outputs": [],
   "execution_count": null
  },
  {
   "metadata": {},
   "cell_type": "markdown",
   "source": [
    "During this process, the `one_at_a_time` method:\n",
    "1. Takes each parameter one at a time\n",
    "2. Varies it across its range while keeping other parameters constant\n",
    "3. Calculates the model output (runoff) for each parameter value\n",
    "4. Stores the results for visualization and analysis\n"
   ],
   "id": "f302ae9d6d586c6b"
  },
  {
   "metadata": {},
   "cell_type": "markdown",
   "source": [
    "### Step 6: Visualize the Results\n",
    "\n",
    "#### Plot with Relative Parameter Values\n",
    "\n",
    "First, let's create a plot showing how relative changes in parameters affect runoff:\n"
   ],
   "id": "f7f18756af839ee3"
  },
  {
   "metadata": {},
   "cell_type": "code",
   "source": [
    "fig, ax = sensitivity.sobol(\n",
    "    title=\"Sensitivity of Runoff to Model Parameters\",\n",
    "    xlabel=\"Relative Parameter Value\",\n",
    "    ylabel=\"Runoff (mm)\"\n",
    ")\n",
    "plt.tight_layout()\n",
    "plt.show()\n"
   ],
   "id": "ce466f9b1c63c85c",
   "outputs": [],
   "execution_count": null
  },
  {
   "metadata": {},
   "cell_type": "markdown",
   "source": "This plot shows how changing each parameter relative to its baseline value affects the runoff prediction. The steeper the line, the more sensitive the model is to that parameter.\n",
   "id": "660055f711ccf105"
  },
  {
   "metadata": {},
   "cell_type": "markdown",
   "source": [
    "## 🔹 Figure 1: Relative Parameter Sensitivity\n",
    "\n",
    "**Plot Description**\n",
    "- **X-axis**: Relative parameter value (e.g., 0.5× to 2.5× the baseline value)\n",
    "- **Y-axis**: Resulting runoff in mm\n",
    "- **Legend**: Shows which parameter was varied in each line\n",
    "\n",
    "**Interpretation by Parameter**\n",
    "- **CN (Curve Number)**:\n",
    "- Runoff increases **sharply and nonlinearly** with CN.\n",
    "    - Higher CN means **less infiltration** and **more runoff**.\n",
    "\n",
    "- **IA_ratio (Initial Abstraction Ratio)**:\n",
    "- Runoff **decreases** as IA_ratio increases.\n",
    "- Higher IA means **more rain is absorbed/retained**, reducing runoff.\n",
    "\n",
    "- **AMC_factor (Antecedent Moisture Condition)**:\n",
    "- Runoff increases with soil wetness.\n",
    "- Wetter soil = **less absorption capacity** = more runoff.\n",
    "\n",
    "- **Slope_factor**:\n",
    "- Runoff increases with slope.\n",
    "    - Steeper terrain promotes faster runoff, reducing infiltration.\n",
    "\n",
    "- **Veg_factor (Vegetation Density)**:\n",
    "- Runoff increases as vegetation density decreases.\n",
    "- Less vegetation = **less interception and retention**.\n",
    "\n",
    "**Overall Insight**\n",
    "- **CN, AMC_factor, and Slope_factor** have the most **positive** impact on runoff.\n",
    "- **IA_ratio** is the only one with a **negative** correlation.\n",
    "    - This view allows for **easy comparison of sensitivity** across parameters.\n"
   ],
   "id": "619bbc66f6531a65"
  },
  {
   "metadata": {},
   "cell_type": "markdown",
   "source": [
    "#### Plot with Actual Parameter Values\n",
    "\n",
    "For a more direct interpretation, we can also plot using the actual parameter values:\n"
   ],
   "id": "8d4b6936ecb39652"
  },
  {
   "metadata": {},
   "cell_type": "code",
   "source": [
    "fig2, ax2 = sensitivity.sobol(\n",
    "    real_values=True,\n",
    "    title=\"Sensitivity of Runoff to Model Parameters\",\n",
    "    xlabel=\"Parameter Value\",\n",
    "    ylabel=\"Runoff (mm)\"\n",
    ")\n",
    "plt.tight_layout()\n",
    "plt.show()\n"
   ],
   "id": "876d0351daaed558",
   "outputs": [],
   "execution_count": null
  },
  {
   "metadata": {},
   "cell_type": "markdown",
   "source": "This visualization helps understand the absolute effect of each parameter on the model output.\n",
   "id": "52e59bf8cf5f8816"
  },
  {
   "metadata": {},
   "cell_type": "markdown",
   "source": [
    "## 🔹 Figure 2: Absolute Parameter Sensitivity\n",
    "\n",
    "**Plot Description**\n",
    "- **X-axis**: Actual parameter values (e.g., CN: 50–90, IA_ratio: 0.1–0.5, etc.)\n",
    "- **Y-axis**: Runoff in mm\n",
    "\n",
    "**Interpretation**\n",
    "- **CN** shows a clear, sharp, nonlinear increase in runoff as value rises.\n",
    "- Other parameters (IA_ratio, AMC_factor, etc.) appear **compressed** due to their smaller value ranges.\n",
    "- Their influence is still visible but **hard to compare directly** due to scale differences.\n",
    "\n",
    "**Insight**\n",
    "- Useful for seeing impact in **natural units**, but **less suitable** for relative comparison.\n",
    "- Reinforces that **CN** is the most influential parameter over a wider range."
   ],
   "id": "1aa79f599dd6ec19"
  },
  {
   "metadata": {},
   "cell_type": "markdown",
   "source": [
    "## ✅ Conclusion\n",
    "\n",
    "| Parameter     | Effect on Runoff     | Trend        |\n",
    "|---------------|-----------------------|--------------|\n",
    "| CN            | Strong positive       | Nonlinear ↑  |\n",
    "| IA_ratio      | Strong negative       | Linear ↓     |\n",
    "| AMC_factor    | Moderate positive     | Linear ↑     |\n",
    "| Slope_factor  | Moderate positive     | Linear ↑     |\n",
    "| Veg_factor    | Moderate positive     | Linear ↑     |\n",
    "\n",
    "- Use **Figure 1** for comparative sensitivity.\n",
    "    - Use **Figure 2** for understanding effects in real-world units.\n"
   ],
   "id": "730f68c42d5f5c98"
  },
  {
   "metadata": {},
   "cell_type": "markdown",
   "source": [
    "### Step 7: Interpret the Results\n",
    "\n",
    "Let's extract and analyze the results for the Curve Number parameter:\n"
   ],
   "id": "ae151c397212d90a"
  },
  {
   "metadata": {},
   "cell_type": "code",
   "source": [
    "# Access results for the Curve Number parameter\n",
    "cn_param = parameters.index[0]\n",
    "relative_values = sensitivity.sen[cn_param][0]\n",
    "runoff_values = sensitivity.sen[cn_param][1]\n",
    "actual_values = sensitivity.sen[cn_param][2]\n",
    "\n",
    "# Print sensitivity information\n",
    "for i in range(len(actual_values)):\n",
    "    print(f\"CN = {actual_values[i]}, Runoff = {runoff_values[i]} mm\")\n"
   ],
   "id": "eaaf6866d4baddc7",
   "outputs": [],
   "execution_count": null
  },
  {
   "metadata": {},
   "cell_type": "markdown",
   "source": [
    "## Analysis of Results\n",
    "\n",
    "From the sensitivity analysis, we can draw several important conclusions:\n",
    "\n",
    "1. **Curve Number (CN)** has the most significant impact on runoff predictions, as shown by the steepest line in the plot. A 20% change in CN can result in approximately a 30% change in predicted runoff.\n",
    "\n",
    "2. **Initial Abstraction Ratio (IA_ratio)** has an inverse relationship with runoff - as it increases, runoff decreases because more rainfall is captured before runoff begins.\n",
    "\n",
    "3. **AMC_factor**, **Slope_factor**, and **Veg_factor** all have similar levels of influence since they all directly modify the Curve Number in our model.\n",
    "\n",
    "4. The relationship between parameters and runoff is non-linear, which is typical in hydrological models.\n"
   ],
   "id": "f2b2e26f24399051"
  },
  {
   "metadata": {},
   "cell_type": "markdown",
   "source": [
    "## Practical Applications\n",
    "\n",
    "This sensitivity analysis provides valuable insights for:\n",
    "\n",
    "1. **Field Measurements**: Focus data collection efforts on accurately determining the Curve Number, as it has the greatest impact on model results.\n",
    "\n",
    "2. **Model Calibration**: When calibrating the model to observed data, adjust the CN first before fine-tuning other parameters.\n",
    "\n",
    "3. **Uncertainty Analysis**: Quantify prediction uncertainty by understanding how errors in parameter estimation propagate to the final runoff prediction.\n",
    "\n",
    "4. **Watershed Management**: Identify which watershed characteristics (represented by parameters) could be modified to effectively reduce runoff and potential flooding.\n"
   ],
   "id": "b76f575c8b568e1f"
  },
  {
   "metadata": {},
   "cell_type": "markdown",
   "source": [
    "## Conclusion\n",
    "\n",
    "Sensitivity analysis is an essential tool in hydrological modeling that helps understand parameter importance, guides data collection efforts, improves model calibration, and supports decision-making. The `Sensitivity` class in the `statista` package provides a straightforward way to perform and visualize such analyses for any model with uncertain parameters."
   ],
   "id": "2e891dde6394119c"
  }
 ],
 "metadata": {},
 "nbformat": 4,
 "nbformat_minor": 5
}
