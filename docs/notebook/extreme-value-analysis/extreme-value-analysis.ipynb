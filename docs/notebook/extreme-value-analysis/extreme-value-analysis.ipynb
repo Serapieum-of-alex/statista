{
 "cells": [
  {
   "metadata": {},
   "cell_type": "markdown",
   "source": [
    "# Extreme Value Analysis\n",
    "\n",
    "## Introduction\n",
    "\n",
    "Extreme Value Analysis (EVA) is a branch of statistics that deals with the extreme deviations from the median of probability distributions. It's particularly important in fields like hydrology, meteorology, and finance where rare but extreme events (floods, storms, market crashes) can have significant impacts.\n",
    "\n",
    "This notebook demonstrates how to use the `statista` package to perform extreme value analysis on time series data. We'll explore two common distributions used in EVA:\n",
    "\n",
    "1. **Gumbel Distribution** - A special case of the Generalized Extreme Value (GEV) distribution with shape parameter = 0\n",
    "2. **Generalized Extreme Value (GEV) Distribution** - A family of continuous probability distributions developed within extreme value theory\n",
    "\n",
    "## Setup and Data Loading\n",
    "\n",
    "First, let's import the necessary libraries and set up our environment:\n"
   ]
  },
  {
   "metadata": {},
   "cell_type": "code",
   "source": [
    "import matplotlib\n",
    "%matplotlib inline\n",
    "import pandas as pd\n",
    "from statista.distributions import ConfidenceInterval, PlottingPosition, Distributions\n"
   ],
   "outputs": [],
   "execution_count": null
  },
  {
   "metadata": {},
   "cell_type": "markdown",
   "source": [
    "### Loading Time Series Data\n",
    "\n",
    "We'll work with two different time series datasets for our analysis. These datasets might represent annual maximum values of some variable (like rainfall, river discharge, etc.).\n"
   ]
  },
  {
   "metadata": {},
   "cell_type": "code",
   "source": [
    "# Load two time series datasets from text files\n",
    "time_series1 = pd.read_csv(\"../../../examples/data/time_series1.txt\", header=None)[0].tolist()\n",
    "time_series2 = pd.read_csv(\"../../../examples/data/time_series2.txt\", header=None)[0].tolist()\n",
    "\n",
    "# Display the first time series to understand the data we're working with\n",
    "print(time_series1)"
   ],
   "outputs": [],
   "execution_count": null
  },
  {
   "metadata": {},
   "cell_type": "markdown",
   "source": [
    "# Gumbel Distribution\n",
    "\n",
    "The Gumbel distribution is commonly used to model the distribution of maximum values. It's particularly useful for modeling extreme events like floods, maximum wind speeds, or earthquake magnitudes. The distribution is characterized by two parameters:\n",
    "\n",
    "- **Location parameter (μ)**: Controls the mode of the distribution\n",
    "- **Scale parameter (β)**: Controls the dispersion of the distribution\n",
    "\n",
    "## Parameter Estimation Methods\n",
    "\n",
    "There are several methods to estimate the parameters of a Gumbel distribution. We'll explore two common approaches:\n",
    "\n",
    "### Maximum-Likelihood Method\n",
    "\n",
    "The Maximum-Likelihood Estimation (MLE) method finds parameter values that maximize the likelihood of observing the given data. It's a widely used statistical method that often provides efficient estimators.\n"
   ]
  },
  {
   "metadata": {},
   "cell_type": "code",
   "source": [
    "# Create a Gumbel distribution object with our first time series\n",
    "gumbel_series_1 = Distributions(\"Gumbel\", time_series1)\n",
    "\n",
    "# Fit the model using Maximum-Likelihood Estimation (MLE)\n",
    "# This estimates the location and scale parameters of the Gumbel distribution\n",
    "param_mle_series_1 = gumbel_series_1.fit_model(method=\"mle\")\n",
    "\n",
    "# Perform goodness-of-fit tests to evaluate how well the distribution fits our data\n",
    "# Kolmogorov-Smirnov test\n",
    "gumbel_series_1.ks()\n",
    "# Chi-square test\n",
    "gumbel_series_1.chisquare()\n",
    "\n",
    "# Display the estimated parameters\n",
    "print(param_mle_series_1)\n"
   ],
   "outputs": [],
   "execution_count": null
  },
  {
   "metadata": {},
   "cell_type": "markdown",
   "source": [
    "#### Visualizing the Fitted Distribution\n",
    "\n",
    "After fitting the distribution, it's important to visualize how well it represents our data. We'll look at both the probability density function (PDF) and cumulative distribution function (CDF).\n",
    "\n",
    "##### Probability Density Function (PDF)\n",
    "\n",
    "The PDF shows the relative likelihood of the random variable taking a specific value. The area under the curve between two points gives the probability of the random variable falling within that range.\n"
   ]
  },
  {
   "metadata": {},
   "cell_type": "code",
   "source": [
    "# Calculate and plot the probability density function (PDF)\n",
    "pdf, fig, ax = gumbel_series_1.pdf(plot_figure=True)\n"
   ],
   "outputs": [],
   "execution_count": null
  },
  {
   "metadata": {},
   "cell_type": "markdown",
   "source": [
    "##### Cumulative Distribution Function (CDF)\n",
    "\n",
    "The CDF gives the probability that the random variable takes a value less than or equal to a given point. It's particularly useful for determining probabilities of extreme events.\n"
   ]
  },
  {
   "metadata": {},
   "cell_type": "code",
   "source": [
    "# Calculate and plot the cumulative distribution function (CDF)\n",
    "cdf, _, _ = gumbel_series_1.cdf(plot_figure=True)"
   ],
   "outputs": [],
   "execution_count": null
  },
  {
   "metadata": {},
   "cell_type": "markdown",
   "source": [
    "### L-moments Method\n",
    "\n",
    "L-moments are an alternative to conventional moments and provide a more robust way to estimate distribution parameters, especially for small sample sizes. They are less sensitive to outliers and perform well for extreme value distributions.\n"
   ]
  },
  {
   "metadata": {},
   "cell_type": "code",
   "source": [
    "# Fit the Gumbel distribution using the L-moments method\n",
    "param_lmoments_series_1 = gumbel_series_1.fit_model(method=\"lmoments\")\n",
    "\n",
    "# Perform goodness-of-fit tests to evaluate how well this new fit performs\n",
    "# Kolmogorov-Smirnov test\n",
    "gumbel_series_1.ks()\n",
    "# Chi-square test\n",
    "gumbel_series_1.chisquare()\n",
    "\n",
    "# Display the estimated parameters\n",
    "print(param_lmoments_series_1)\n"
   ],
   "outputs": [],
   "execution_count": null
  },
  {
   "metadata": {},
   "cell_type": "markdown",
   "source": [
    "#### Comparing Visualization Results\n",
    "\n",
    "Let's visualize the distribution fitted using L-moments to compare with our previous MLE results.\n",
    "\n",
    "##### Probability Density Function (PDF) with L-moments\n"
   ]
  },
  {
   "metadata": {},
   "cell_type": "code",
   "source": [
    "# Calculate and plot the PDF using parameters estimated with L-moments\n",
    "pdf, fig, ax = gumbel_series_1.pdf(plot_figure=True)\n"
   ],
   "outputs": [],
   "execution_count": null
  },
  {
   "metadata": {},
   "cell_type": "markdown",
   "source": "##### Cumulative Distribution Function (CDF) with L-moments\n"
  },
  {
   "metadata": {},
   "cell_type": "code",
   "source": [
    "# Calculate and plot the CDF using parameters estimated with L-moments\n",
    "cdf, fig, ax = gumbel_series_1.cdf(plot_figure=True)\n"
   ],
   "outputs": [],
   "execution_count": null
  },
  {
   "metadata": {},
   "cell_type": "markdown",
   "source": [
    "### Confidence Intervals\n",
    "\n",
    "Confidence intervals provide a range of values that likely contain the true parameter value with a specified confidence level. They help quantify the uncertainty in our parameter estimates.\n"
   ]
  },
  {
   "metadata": {},
   "cell_type": "code",
   "source": [
    "# Calculate the confidence interval with 90% confidence level (alpha=0.1)\n",
    "# This helps us understand the uncertainty in our estimates\n",
    "upper, lower, fig, ax = gumbel_series_1.confidence_interval(alpha=0.1, plot_figure=True)\n"
   ],
   "outputs": [],
   "execution_count": null
  },
  {
   "metadata": {},
   "cell_type": "markdown",
   "source": [
    "### Combined PDF and CDF Plot\n",
    "\n",
    "For a comprehensive view, we can generate a combined plot showing both the PDF and CDF of our fitted distribution.\n"
   ]
  },
  {
   "metadata": {},
   "cell_type": "code",
   "source": [
    "# Generate a combined plot showing both PDF and CDF\n",
    "fig, ax = gumbel_series_1.plot()"
   ],
   "outputs": [],
   "execution_count": null
  },
  {
   "metadata": {},
   "cell_type": "markdown",
   "source": [
    "## Truncated Distribution: Focusing on Extreme Values\n",
    "\n",
    "In extreme value analysis, we're often most interested in the tail of the distribution (the extreme values). By using a threshold, we can focus our analysis specifically on values above a certain level, which can lead to better modeling of extreme events.\n",
    "\n",
    "This approach is particularly useful when:\n",
    "- Only the extreme values are of interest (e.g., flood levels above a critical threshold)\n",
    "- The full dataset might not follow the theoretical distribution, but the extremes do\n",
    "- You want to improve the fit specifically for the tail of the distribution\n"
   ]
  },
  {
   "metadata": {},
   "cell_type": "code",
   "source": [
    "# Import the specific Gumbel class for more advanced operations\n",
    "from statista.distributions import Gumbel\n",
    "\n",
    "# Set a high threshold to focus only on values above 18\n",
    "threshold = 18\n",
    "\n",
    "# Fit the model using optimization method with a truncated distribution objective function\n",
    "# This will only consider values above the threshold when fitting the distribution\n",
    "gev_param_mle_series_1 = gumbel_series_1.fit_model(\n",
    "    method=\"optimization\", \n",
    "    obj_func=Gumbel.truncated_distribution, \n",
    "    threshold=threshold\n",
    ")\n",
    "\n",
    "# Display the estimated parameters\n",
    "print(gev_param_mle_series_1)\n",
    "\n",
    "# Visualize the results\n",
    "gumbel_series_1.plot()\n",
    "gumbel_series_1.confidence_interval(plot_figure=True)\n"
   ],
   "outputs": [],
   "execution_count": null
  },
  {
   "metadata": {},
   "cell_type": "markdown",
   "source": [
    "### Effect of Different Thresholds\n",
    "\n",
    "The choice of threshold can significantly impact the parameter estimates. Let's try a lower threshold to see how it affects our results.\n"
   ]
  },
  {
   "metadata": {},
   "cell_type": "code",
   "source": [
    "# Set a lower threshold of 15\n",
    "threshold = 15\n",
    "\n",
    "# Fit the model again with the new threshold\n",
    "gev_param_mle_series_1 = gumbel_series_1.fit_model(\n",
    "    method=\"optimization\", \n",
    "    obj_func=Gumbel.truncated_distribution, \n",
    "    threshold=threshold\n",
    ")\n",
    "\n",
    "# Display the new estimated parameters\n",
    "print(gev_param_mle_series_1)\n",
    "\n",
    "# Visualize the results with the new threshold\n",
    "gumbel_series_1.plot()\n",
    "gumbel_series_1.confidence_interval(plot_figure=True)"
   ],
   "outputs": [],
   "execution_count": null
  },
  {
   "metadata": {},
   "cell_type": "markdown",
   "source": [
    "# Generalized Extreme Value (GEV) Distribution\n",
    "\n",
    "The Generalized Extreme Value (GEV) distribution is a family of continuous probability distributions that combines three simpler distributions:\n",
    "- Gumbel (Type I)\n",
    "- Fréchet (Type II)\n",
    "- Weibull (Type III)\n",
    "\n",
    "The GEV distribution is characterized by three parameters:\n",
    "- **Location parameter (μ)**: Controls the center of the distribution\n",
    "- **Scale parameter (σ)**: Controls the width of the distribution\n",
    "- **Shape parameter (ξ)**: Determines which type of extreme value distribution is represented\n",
    "  - ξ = 0: Gumbel distribution\n",
    "  - ξ > 0: Fréchet distribution\n",
    "  - ξ < 0: Weibull distribution\n",
    "\n",
    "The shape parameter is particularly important as it determines the behavior of the distribution's tail, which is crucial for modeling extreme events.\n",
    "\n",
    "## Maximum-Likelihood Estimation for GEV\n",
    "\n",
    "Let's apply the GEV distribution to our second time series dataset:\n"
   ]
  },
  {
   "metadata": {},
   "cell_type": "code",
   "source": [
    "# Create a GEV distribution object with our second time series\n",
    "gev_series_2 = Distributions(\"GEV\", time_series2)\n",
    "\n",
    "# Fit the model using Maximum-Likelihood Estimation (default method)\n",
    "# This estimates all three parameters of the GEV distribution\n",
    "gev_param_mle_series_2 = gev_series_2.fit_model()\n",
    "\n",
    "# Perform goodness-of-fit tests\n",
    "# Kolmogorov-Smirnov test\n",
    "gev_series_2.ks()\n",
    "# Chi-square test\n",
    "gev_series_2.chisquare()\n",
    "\n",
    "# Display the estimated parameters (location, scale, and shape)\n",
    "print(gev_param_mle_series_2)\n",
    "\n",
    "# Calculate and plot the probability density function (PDF)\n",
    "pdf, fig, ax = gev_series_2.pdf(plot_figure=True)\n",
    "\n",
    "# Calculate and plot the cumulative distribution function (CDF)\n",
    "cdf, _, _ = gev_series_2.cdf(plot_figure=True)\n"
   ],
   "outputs": [],
   "execution_count": null
  },
  {
   "metadata": {},
   "cell_type": "markdown",
   "source": [
    "## L-moments Estimation for GEV\n",
    "\n",
    "As with the Gumbel distribution, we can also use the L-moments method to estimate the parameters of the GEV distribution. This method is often more robust for small sample sizes and less sensitive to outliers.\n"
   ]
  },
  {
   "metadata": {},
   "cell_type": "code",
   "source": [
    "# Fit the GEV distribution using the L-moments method\n",
    "gev_param_lm_series_2 = gev_series_2.fit_model(method=\"lmoments\")\n",
    "\n",
    "# Display the estimated parameters\n",
    "print(gev_param_lm_series_2)\n",
    "\n",
    "# Calculate and plot the PDF with L-moments parameters\n",
    "pdf, fig, ax = gev_series_2.pdf(plot_figure=True)\n",
    "\n",
    "# Calculate and plot the CDF with L-moments parameters\n",
    "cdf, _, _ = gev_series_2.cdf(plot_figure=True)"
   ],
   "outputs": [],
   "execution_count": null
  },
  {
   "metadata": {},
   "cell_type": "markdown",
   "source": [
    "## Confidence Intervals for GEV Distribution\n",
    "\n",
    "Confidence intervals are crucial in extreme value analysis as they help quantify the uncertainty in our estimates. This is especially important when dealing with rare events where data might be limited.\n",
    "\n",
    "### Using Plotting Positions\n",
    "\n",
    "Plotting positions are empirical estimates of the cumulative distribution function. The Weibull plotting position is commonly used in hydrology and provides a non-parametric estimate of the probability of non-exceedance.\n"
   ]
  },
  {
   "metadata": {},
   "cell_type": "code",
   "source": [
    "# Import the GEV class for specific functions\n",
    "from statista.distributions import GEV\n",
    "\n",
    "# Calculate the non-exceedance probabilities using Weibull plotting position\n",
    "# This gives us empirical estimates of the CDF based on the data\n",
    "cdf_Weibul = PlottingPosition.weibul(time_series2)\n",
    "\n",
    "# Calculate theoretical quantiles corresponding to the empirical probabilities\n",
    "# This allows us to compare the theoretical distribution with the empirical data\n",
    "qth = gev_series_2.inverse_cdf(cdf_Weibul)\n",
    "\n",
    "# Calculate and plot confidence intervals\n",
    "# alpha=0.1 means we're calculating 90% confidence intervals\n",
    "upper, lower, fig, ax = gev_series_2.confidence_interval(\n",
    "    prob_non_exceed=cdf_Weibul,  # Use the empirical probabilities\n",
    "    alpha=0.1,                   # 90% confidence level\n",
    "    n_samples=100,               # Number of bootstrap samples\n",
    "    plot_figure=True             # Generate a plot\n",
    ")\n"
   ],
   "outputs": [],
   "execution_count": null
  },
  {
   "metadata": {},
   "cell_type": "markdown",
   "source": [
    "### Bootstrap Method for Confidence Intervals\n",
    "\n",
    "Bootstrap is a resampling technique that allows us to estimate the sampling distribution of a statistic by resampling with replacement from the observed data. It's particularly useful when the theoretical distribution of the statistic is complicated or unknown.\n"
   ]
  },
  {
   "metadata": {},
   "cell_type": "code",
   "source": [
    "# Perform bootstrap to calculate confidence intervals\n",
    "CI = ConfidenceInterval.boot_strap(\n",
    "    time_series2,                # Our data\n",
    "    gevfit=gev_param_lm_series_2, # Parameters from L-moments estimation\n",
    "    n_samples=100,               # Number of bootstrap samples\n",
    "    F=cdf_Weibul,                # Empirical probabilities\n",
    "    method=\"lmoments\",           # Parameter estimation method\n",
    "    state_function=GEV.ci_func   # Function to calculate statistics for each bootstrap sample\n",
    ")\n",
    "\n",
    "# Extract the lower and upper bounds of the confidence interval\n",
    "lower_bound = CI[\"lb\"]\n",
    "upper_bound = CI[\"ub\"]\n",
    "\n",
    "# Display the bounds\n",
    "print(\"Lower bound of confidence interval:\")\n",
    "print(lower_bound)\n",
    "print(\"\\nUpper bound of confidence interval:\")\n",
    "print(upper_bound)\n"
   ],
   "outputs": [],
   "execution_count": null
  },
  {
   "metadata": {},
   "cell_type": "markdown",
   "source": [
    "## Final Visualization\n",
    "\n",
    "Let's create a comprehensive visualization of our GEV distribution fit and confidence intervals:\n"
   ]
  },
  {
   "metadata": {},
   "cell_type": "code",
   "source": [
    "# Generate a combined plot showing both PDF and CDF\n",
    "fig, ax = gev_series_2.plot()\n",
    "\n",
    "# Add confidence intervals to the plot\n",
    "upper_bound, lower_bound, fig, ax = gev_series_2.confidence_interval(plot_figure=True)\n"
   ],
   "outputs": [],
   "execution_count": null
  },
  {
   "metadata": {},
   "cell_type": "markdown",
   "source": [
    "## Conclusion\n",
    "\n",
    "In this notebook, we've explored extreme value analysis using the `statista` package. We've covered:\n",
    "\n",
    "1. **Gumbel Distribution** - A special case of GEV used for modeling maxima\n",
    "2. **Generalized Extreme Value (GEV) Distribution** - A more flexible family of distributions\n",
    "3. **Parameter Estimation Methods** - Maximum Likelihood and L-moments\n",
    "4. **Truncated Distributions** - Focusing on values above a threshold\n",
    "5. **Confidence Intervals** - Quantifying uncertainty in our estimates\n",
    "\n",
    "These techniques are essential for analyzing extreme events in various fields such as hydrology, meteorology, and finance. By properly modeling extreme values, we can better understand and prepare for rare but potentially catastrophic events.\n"
   ]
  }
 ],
 "metadata": {
  "kernelspec": {
   "display_name": "Python 3 (ipykernel)",
   "language": "python",
   "name": "python3"
  },
  "language_info": {
   "codemirror_mode": {
    "name": "ipython",
    "version": 3
   },
   "file_extension": ".py",
   "mimetype": "text/x-python",
   "name": "python",
   "nbconvert_exporter": "python",
   "pygments_lexer": "ipython3",
   "version": "3.12.0"
  }
 },
 "nbformat": 4,
 "nbformat_minor": 4
}
